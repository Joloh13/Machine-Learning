{
  "nbformat": 4,
  "nbformat_minor": 0,
  "metadata": {
    "colab": {
      "name": "neural_networks_painting.ipynb",
      "version": "0.3.2",
      "provenance": []
    },
    "kernelspec": {
      "name": "python3",
      "display_name": "Python 3"
    }
  },
  "cells": [
    {
      "metadata": {
        "id": "k_vryeJrbU46",
        "colab_type": "code",
        "outputId": "cccb1322-739c-4b07-bd25-8e8dd629a330",
        "colab": {
          "base_uri": "https://localhost:8080/",
          "height": 54
        }
      },
      "cell_type": "code",
      "source": [
        "from google.colab import drive\n",
        "drive.mount('/content/gdrive')\n"
      ],
      "execution_count": 0,
      "outputs": [
        {
          "output_type": "stream",
          "text": [
            "Drive already mounted at /content/gdrive; to attempt to forcibly remount, call drive.mount(\"/content/gdrive\", force_remount=True).\n"
          ],
          "name": "stdout"
        }
      ]
    },
    {
      "metadata": {
        "id": "oihpSi8TfkRe",
        "colab_type": "code",
        "outputId": "cc3d879c-1830-44cd-9edd-c40a57eb346c",
        "colab": {
          "base_uri": "https://localhost:8080/",
          "height": 71
        }
      },
      "cell_type": "code",
      "source": [
        "loss = [0.03371539779359005, \n",
        "        0.030784157278819668,\n",
        "        0.02971600742291579,\n",
        "        0.028330222062111766,      \n",
        "        0.026913959720428576,\n",
        "        0.026799665090402748,\n",
        "        0.026729187501316556,\n",
        "        0.025524713872001774,\n",
        "        \n",
        "        0.02493183358650583,\n",
        "        0.02493183358650583,\n",
        "        0.023853992514440255,\n",
        "        0.023841126823377138,\n",
        "        0.023572977175987078,\n",
        "        0.022894373549010506,\n",
        "        0.022636059726937108,\n",
        "        0.022728378469031106,\n",
        "        0.023160449249228006,\n",
        "        0.022873920463036435,\n",
        "        \n",
        "        0.023155487713817393,\n",
        "        0.022291691541866415,\n",
        "        0.021996047492061525,\n",
        "        0.021555722679153125,\n",
        "        0.020889661367420917,\n",
        "        0.021076107008438975,\n",
        "        0.021528658316894787,\n",
        "        0.021346591196160794,\n",
        "        0.02112049785939064,\n",
        "        0.02082172065981531,\n",
        "        \n",
        "        0.020735834381199702,\n",
        "        0.020261159544655714,\n",
        "        0.020206220064720407,\n",
        "        0.020162091965547312,\n",
        "        0.019813343506095187,\n",
        "        0.019536539900727987,\n",
        "        0.019675363016462267,\n",
        "        0.019571740741161595,\n",
        "        0.019868713591400383,\n",
        "        \n",
        "        0.019922091416563818,\n",
        "        0.01938116320946345,\n",
        "        0.019884144039090182,\n",
        "        0.01946702468622026,\n",
        "        0.019213529300959056,\n",
        "        0.01920092766303084,\n",
        "        0.018992495461619654,\n",
        "        \n",
        "        \n",
        "        0.018844019510331236,\n",
        "        0.018698880038840803,\n",
        "        0.01911590477534737,\n",
        "       ]\n",
        "\n",
        "print (len(loss))\n",
        "print (loss)"
      ],
      "execution_count": 0,
      "outputs": [
        {
          "output_type": "stream",
          "text": [
            "47\n",
            "[0.03371539779359005, 0.030784157278819668, 0.02971600742291579, 0.028330222062111766, 0.026913959720428576, 0.026799665090402748, 0.026729187501316556, 0.025524713872001774, 0.02493183358650583, 0.02493183358650583, 0.023853992514440255, 0.023841126823377138, 0.023572977175987078, 0.022894373549010506, 0.022636059726937108, 0.022728378469031106, 0.023160449249228006, 0.022873920463036435, 0.023155487713817393, 0.022291691541866415, 0.021996047492061525, 0.021555722679153125, 0.020889661367420917, 0.021076107008438975, 0.021528658316894787, 0.021346591196160794, 0.02112049785939064, 0.02082172065981531, 0.020735834381199702, 0.020261159544655714, 0.020206220064720407, 0.020162091965547312, 0.019813343506095187, 0.019536539900727987, 0.019675363016462267, 0.019571740741161595, 0.019868713591400383, 0.019922091416563818, 0.01938116320946345, 0.019884144039090182, 0.01946702468622026, 0.019213529300959056, 0.01920092766303084, 0.018992495461619654, 0.018844019510331236, 0.018698880038840803, 0.01911590477534737]\n"
          ],
          "name": "stdout"
        }
      ]
    },
    {
      "metadata": {
        "id": "NGLKL1clhBTx",
        "colab_type": "code",
        "outputId": "244997d3-a52f-4b9d-b546-ef73310918ff",
        "colab": {
          "base_uri": "https://localhost:8080/",
          "height": 34
        }
      },
      "cell_type": "code",
      "source": [
        "iteration = [\n",
        "    492,\n",
        "    492,\n",
        "    715,\n",
        "    880,\n",
        "    1007,\n",
        "    1091,\n",
        "    1162,\n",
        "    1322,\n",
        "    1381,\n",
        "    1438,\n",
        "    1514,\n",
        "    1626,\n",
        "    1744,\n",
        "    1802,\n",
        "    1940,\n",
        "    2000,\n",
        "    2095,\n",
        "    2174,\n",
        "    2230,\n",
        "    2310,\n",
        "    2364,\n",
        "    2535,\n",
        "    2600,\n",
        "    2662,\n",
        "    2717,\n",
        "    2800,\n",
        "    2840,\n",
        "    2950,\n",
        "    3112,\n",
        "    3216,\n",
        "    3294,\n",
        "    3347,\n",
        "    3423,\n",
        "    3497,\n",
        "    3557,\n",
        "    3647,\n",
        "    3700,\n",
        "    3814,\n",
        "    4000,\n",
        "    4052,\n",
        "    4139,\n",
        "    4293,\n",
        "    4344,\n",
        "    4611,\n",
        "    4879,\n",
        "    4928,\n",
        "    5064,\n",
        "]\n",
        "\n",
        "print (len(iteration))"
      ],
      "execution_count": 0,
      "outputs": [
        {
          "output_type": "stream",
          "text": [
            "47\n"
          ],
          "name": "stdout"
        }
      ]
    },
    {
      "metadata": {
        "id": "VGjpW_MRkP3J",
        "colab_type": "code",
        "outputId": "4bf0a027-22e1-439f-83a2-3acefc551cbe",
        "colab": {
          "base_uri": "https://localhost:8080/",
          "height": 376
        }
      },
      "cell_type": "code",
      "source": [
        "import matplotlib\n",
        "import matplotlib.pyplot as plt\n",
        "import numpy as np\n",
        "\n",
        "fig, ax = plt.subplots()\n",
        "ax.plot(iteration, loss)\n",
        "\n",
        "ax.set(xlabel='Iteration (s)', ylabel='Loss',\n",
        "       title='Part C: Loss Values over 5000 Iterations')\n",
        "ax.grid()\n",
        "\n",
        "#fig.savefig(\"test.png\")\n",
        "plt.show()"
      ],
      "execution_count": 0,
      "outputs": [
        {
          "output_type": "display_data",
          "data": {
            "image/png": "[encoded data removed]",
            "text/plain": [
              "<matplotlib.figure.Figure at 0x7f150d113b70>"
            ]
          },
          "metadata": {
            "tags": []
          }
        }
      ]
    },
    {
      "metadata": {
        "id": "KUX92UR0mNZW",
        "colab_type": "code",
        "colab": {}
      },
      "cell_type": "code",
      "source": [
        ""
      ],
      "execution_count": 0,
      "outputs": []
    }
  ]
}